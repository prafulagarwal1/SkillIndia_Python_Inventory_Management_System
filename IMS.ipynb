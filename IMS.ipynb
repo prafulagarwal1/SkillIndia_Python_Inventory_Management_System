{
 "cells": [
  {
   "cell_type": "code",
   "execution_count": 1,
   "id": "3a327e17",
   "metadata": {},
   "outputs": [],
   "source": [
    "dictItems = {1001: {\"name\": \"Kitkat\", \"price\":40, \"quantity\":100, \"category\":\"chocolate\"},\n",
    "             1002: {\"name\": \"Magie\", \"price\": 48.0, \"quantity\": 125, \"category\":\"eatables\"},\n",
    "             1003: {\"name\": \"Tea\", \"price\": 125.0, \"quantity\": 50, \"category\": \"drinks\"},\n",
    "             1004: {\"name\": \"Almond\", \"price\": 100.0, \"quantity\": 100, \"category\": \"dryfruit\",},\n",
    "             1005: {\"name\": \"Cashew\", \"price\": 100.0, \"quantity\": 125, \"category\": \"dryfruit\"},\n",
    "             1006: {\"name\": \"Coffee\", \"price\": 200.0, \"quantity\": 25, \"category\": \"drinks\"},\n",
    "             1007: {\"name\": \"Toast\", \"price\": 50.0, \"quantity\": 30, \"category\": \"eatables\"},\n",
    "             1008: {\"name\": \"5star\", \"price\": 20.0, \"quantity\": 25, \"category\": \"chocolate\"}, \n",
    "             1009: {\"name\": \"Dairymilk\", \"price\": 30.0, \"quantity\": 25, \"category\": \"chocolate\"},\n",
    "             1010: {\"name\": \"Ghee\", \"price\": 500.0, \"quantity\": 25, \"category\": \"eatables\"},\n",
    "             1011: {\"name\": \"Refine oil\", \"price\": 189.0, \"quantity\": 25, \"category\": \"eatables\"},\n",
    "             1012: {\"name\": \"Butter\", \"price\": 48.0, \"quantity\": 25, \"category\": \"eatables\"},\n",
    "             1013: {\"name\": \"Bread\", \"price\": 35.0, \"quantity\": 20, \"category\": \"eatables\"},\n",
    "             1014: {\"name\": \"Parleg\", \"price\": 10.0, \"quantity\": 25, \"category\": \"eatables\"},\n",
    "             1015: {\"name\": \"Tomota Sauce\", \"price\": 140.0, \"quantity\": 25, \"category\": \"eatables\"},\n",
    "             1016: {\"name\": \"Green chilli Sauce\", \"price\": 40.0, \"quantity\": 15, \"category\": \"eatables\"},\n",
    "             1017: {\"name\": \"Cheese Slice\", \"price\": 15.0, \"quantity\": 100, \"category\": \"eatables\"},\n",
    "             1018: {\"name\": \"Coconut\", \"price\": 50.0, \"quantity\": 25, \"category\": \"eatables\"},\n",
    "             1019: {\"name\": \"Punjabi tadka\", \"price\": 50.0, \"quantity\": 25, \"category\": \"namkeen\"},\n",
    "             1020: {\"name\": \"Aloo bhujia\", \"price\": 80.0, \"quantity\": 35, \"category\": \"namkeen\"},\n",
    "             1021: {\"name\": \"Khata meetha\", \"price\": 80.0, \"quantity\": 15, \"category\": \"namkeen\"},\n",
    "             1022: {\"name\": \"Almond oil\", \"price\": 50.0, \"quantity\": 25, \"category\": \"cosmetic\"},\n",
    "             1023: {\"name\": \"Amla oil\", \"price\": 40.0, \"quantity\": 25, \"category\": \"cosmetic\"},\n",
    "             1024: {\"name\": \"Perfume\", \"price\": 150.0, \"quantity\": 25, \"category\": \"cosmetic\"},\n",
    "             1025: {\"name\": \"Shampoo\", \"price\": 50.0, \"quantity\": 25, \"category\": \"cosmetic\"},\n",
    "             1026: {\"name\": \"Facewash\", \"price\": 79.0, \"quantity\": 25, \"category\": \"cosmetic\"},\n",
    "             1027: {\"name\": \"Hair gel\", \"price\": 50.0, \"quantity\": 25, \"category\": \"cosmetic\"},\n",
    "             1028: {\"name\": \"Ponds\", \"price\": 200.0, \"quantity\": 25, \"category\": \"cosmetic\"},\n",
    "             1029: {\"name\": \"Comb\", \"price\": 30.0, \"quantity\": 25, \"category\": \"cosmetic\"},\n",
    "             1030: {\"name\": \"Wax\", \"price\": 100.0, \"quantity\": 20, \"category\": \"cosmetic\"}\n",
    "      }"
   ]
  },
  {
   "cell_type": "markdown",
   "id": "004c52f4",
   "metadata": {},
   "source": [
    "CREATING AND INSERTING THE DATA IN JSON FILE"
   ]
  },
  {
   "cell_type": "code",
   "execution_count": 2,
   "id": "7e63e0d4",
   "metadata": {},
   "outputs": [],
   "source": [
    "import json\n",
    "import time\n",
    "js=json.dumps(dictItems)"
   ]
  },
  {
   "cell_type": "code",
   "execution_count": 3,
   "id": "d1747800",
   "metadata": {},
   "outputs": [],
   "source": [
    "fd=open(\"record.json\",\"w\")\n",
    "fd.write(js)\n",
    "fd.close()"
   ]
  },
  {
   "cell_type": "markdown",
   "id": "9b25fb5b",
   "metadata": {},
   "source": [
    "READING THE DATA FROM THE JSON FILE"
   ]
  },
  {
   "cell_type": "code",
   "execution_count": 4,
   "id": "a35858d7",
   "metadata": {},
   "outputs": [
    {
     "data": {
      "text/plain": [
       "dict"
      ]
     },
     "execution_count": 4,
     "metadata": {},
     "output_type": "execute_result"
    }
   ],
   "source": [
    "fd=open(\"record.json\",\"r\")\n",
    "txt=fd.read()\n",
    "fd.close()\n",
    "\n",
    "records=json.loads(txt)\n",
    "type(records)\n"
   ]
  },
  {
   "cell_type": "markdown",
   "id": "1dac5cdc",
   "metadata": {},
   "source": [
    "SHOWDETAILS FUNCTION -- Show the detail of a Particular item that customer have to purchase and also check if that much Quantity of tha item is present or not"
   ]
  },
  {
   "cell_type": "code",
   "execution_count": 5,
   "id": "cfe79890",
   "metadata": {},
   "outputs": [],
   "source": [
    "cart={}\n",
    "def showdetails(b): \n",
    "    if(b>=1001 and b<=1030):\n",
    "        c=int(input(\"Enter the number of quantity of \"+ records[str(b)][\"name\"] +\" you want to buy:\"))\n",
    "        #c=int(input(\"Enter\"))\n",
    "        if (int(records[str(b)][\"quantity\"]) != 0 and int(records[str(b)][\"quantity\"])>=c and c>=1):\n",
    "            \n",
    "            print(\"Name of your Product:\", records[str(b)][\"name\"])\n",
    "            print(\"Price per \",records[str(b)][\"name\"],\":\", records[str(b)][\"price\"])\n",
    "            print(\"Price of\",c,records[str(b)][\"name\"],\":\",int(records[str(b)][\"price\"])*c)\n",
    "            \n",
    "            records[str(b)][\"quantity\"]=str(int(records[str(b)][\"quantity\"])-c)\n",
    "            if b in cart.keys():\n",
    "                cart[b]=cart[b]+c\n",
    "            else:\n",
    "                cart[b]=c\n",
    "        else:\n",
    "            print(\"Sorry, The item is out of stock !\")          \n",
    "    else:\n",
    "        print(\"Please Enter the Valid Product Id\")"
   ]
  },
  {
   "cell_type": "markdown",
   "id": "e02dbb64",
   "metadata": {},
   "source": [
    "REMOVEITEM function -- It removes the particular item from your cart completely if you want to change the quantity of that item also you have to select it again from the main menu option"
   ]
  },
  {
   "cell_type": "code",
   "execution_count": 6,
   "id": "5a93ba11",
   "metadata": {},
   "outputs": [],
   "source": [
    "def removeItem(d):\n",
    "    if d in cart.keys():\n",
    "        records[str(d)][\"quantity\"]=str(int(records[str(d)][\"quantity\"])+cart[d])\n",
    "        print(records[str(d)][\"name\"],\"is successfully removed from your cart.\")\n",
    "    else:\n",
    "        print(\"\\nYou have not add this product in your cart.\")\n",
    "    "
   ]
  },
  {
   "cell_type": "code",
   "execution_count": 7,
   "id": "1e571fa8",
   "metadata": {},
   "outputs": [],
   "source": [
    "def displayCart():\n",
    "    print(\"\\n------------------CART-------------------\")\n",
    "    if(len(cart)==0):\n",
    "        print(\"You have not added any item in your cart !\")\n",
    "    else:\n",
    "        i=1 \n",
    "        for a in cart.keys():\n",
    "            print(i,\".\",records[str(a)][\"name\"],\"Qty:\",cart[a])\n",
    "            i=i+1\n",
    "    print(\"----------------------------------------\\n\")"
   ]
  },
  {
   "cell_type": "code",
   "execution_count": 8,
   "id": "3dcb2e83",
   "metadata": {},
   "outputs": [],
   "source": [
    "sales_records={}"
   ]
  },
  {
   "cell_type": "code",
   "execution_count": 9,
   "id": "7b9ca933",
   "metadata": {},
   "outputs": [],
   "source": [
    "def Sales(Time):\n",
    "    dict1={}\n",
    "    j=1\n",
    "    Total=0\n",
    "    for a in cart.keys():\n",
    "        dict1[j]={\"prod\":a,\"quantity\":cart[a],\"Price\":cart[a]*int(records[str(a)][\"price\"])}\n",
    "        j=j+1;\n",
    "        Total=Total+cart[a]*int(records[str(a)][\"price\"])\n",
    "    \n",
    "    dict1[\"TotalBill\"]=Total\n",
    "    sales_records[Time]=dict1\n",
    "    \n",
    "    js3=json.dumps(sales_records)\n",
    "    fd=open(\"Sales.json\",\"w\")\n",
    "    fd.write(js3)\n",
    "    fd.close()\n",
    "    \n",
    "   \n",
    "    cart.clear()\n",
    "    "
   ]
  },
  {
   "cell_type": "code",
   "execution_count": null,
   "id": "f64aa31f",
   "metadata": {},
   "outputs": [],
   "source": []
  },
  {
   "cell_type": "markdown",
   "id": "541e58ec",
   "metadata": {},
   "source": [
    "#bill() generates the bill and also updated the quantity in your original record.json file "
   ]
  },
  {
   "cell_type": "code",
   "execution_count": 10,
   "id": "fb892b85",
   "metadata": {},
   "outputs": [],
   "source": [
    "def bill():\n",
    "    print(\"\\n--------------------INVOICE------------------\")\n",
    "    if(len(cart)==0):\n",
    "        print(\"You didn't purchase any item!\")\n",
    "    else:\n",
    "        Total=0\n",
    "        i=1\n",
    "        for a in cart.keys():\n",
    "            print(i,\".\",records[str(a)][\"name\"],\", Quantity purchased:\",cart[a],\", Price:\",cart[a],\"*\",(records[str(a)][\"price\"]),\"=\",cart[a]*int(records[str(a)][\"price\"]))\n",
    "            i=i+1\n",
    "            Total+=cart[a]*int(records[str(a)][\"price\"])\n",
    "    print(\"----------------------------------------------\")\n",
    "    print(\"Total bil :\",Total)\n",
    "    \n",
    "    print(\"----------------------------------------------\")\n",
    "    print(\"Thank you for coming, Please visit again !\")\n",
    "    \n",
    " \n",
    "    \n",
    "    # NOW we are updating are JSON file \n",
    "    js1=json.dumps(records)\n",
    "    \n",
    "    fd=open(\"record.json\",\"w\")\n",
    "    fd.write(js1)\n",
    "    fd.close()\n",
    "    "
   ]
  },
  {
   "cell_type": "code",
   "execution_count": 18,
   "id": "52b8d55f",
   "metadata": {},
   "outputs": [
    {
     "name": "stdout",
     "output_type": "stream",
     "text": [
      "--------------------------------------------\n",
      " Welcome to Mega Mart \n",
      "--------------------MENU--------------------\n",
      "1.Show Items List\n",
      "2.Buy Items\n",
      "3.To Remove an item\n",
      "4.To Show your cart\n",
      "5.Total bill and Exit\n",
      "\n",
      "Enter your choice: 1\n",
      "1001 : Kitkat (Quantity Available: 100 )\n",
      "1002 : Magie (Quantity Available: 124 )\n",
      "1003 : Tea (Quantity Available: 48 )\n",
      "1004 : Almond (Quantity Available: 100 )\n",
      "1005 : Cashew (Quantity Available: 125 )\n",
      "1006 : Coffee (Quantity Available: 25 )\n",
      "1007 : Toast (Quantity Available: 30 )\n",
      "1008 : 5star (Quantity Available: 25 )\n",
      "1009 : Dairymilk (Quantity Available: 25 )\n",
      "1010 : Ghee (Quantity Available: 25 )\n",
      "1011 : Refine oil (Quantity Available: 25 )\n",
      "1012 : Butter (Quantity Available: 25 )\n",
      "1013 : Bread (Quantity Available: 20 )\n",
      "1014 : Parleg (Quantity Available: 25 )\n",
      "1015 : Tomota Sauce (Quantity Available: 25 )\n",
      "1016 : Green chilli Sauce (Quantity Available: 15 )\n",
      "1017 : Cheese Slice (Quantity Available: 100 )\n",
      "1018 : Coconut (Quantity Available: 25 )\n",
      "1019 : Punjabi tadka (Quantity Available: 25 )\n",
      "1020 : Aloo bhujia (Quantity Available: 35 )\n",
      "1021 : Khata meetha (Quantity Available: 15 )\n",
      "1022 : Almond oil (Quantity Available: 25 )\n",
      "1023 : Amla oil (Quantity Available: 25 )\n",
      "1024 : Perfume (Quantity Available: 25 )\n",
      "1025 : Shampoo (Quantity Available: 25 )\n",
      "1026 : Facewash (Quantity Available: 25 )\n",
      "1027 : Hair gel (Quantity Available: 25 )\n",
      "1028 : Ponds (Quantity Available: 25 )\n",
      "1029 : Comb (Quantity Available: 25 )\n",
      "1030 : Wax (Quantity Available: 20 )\n",
      "--------------------MENU--------------------\n",
      "1.Show Items List\n",
      "2.Buy Items\n",
      "3.To Remove an item\n",
      "4.To Show your cart\n",
      "5.Total bill and Exit\n",
      "\n",
      "Enter your choice: 2\n",
      "Enter the Id of the product which you want to buy: 1010\n",
      "Enter the number of quantity of Ghee you want to buy:2\n",
      "Name of your Product: Ghee\n",
      "Price per  Ghee : 500.0\n",
      "Price of 2 Ghee : 1000\n",
      "--------------------MENU--------------------\n",
      "1.Show Items List\n",
      "2.Buy Items\n",
      "3.To Remove an item\n",
      "4.To Show your cart\n",
      "5.Total bill and Exit\n",
      "\n",
      "Enter your choice: 2\n",
      "Enter the Id of the product which you want to buy: 1023\n",
      "Enter the number of quantity of Amla oil you want to buy:1\n",
      "Name of your Product: Amla oil\n",
      "Price per  Amla oil : 40.0\n",
      "Price of 1 Amla oil : 40\n",
      "--------------------MENU--------------------\n",
      "1.Show Items List\n",
      "2.Buy Items\n",
      "3.To Remove an item\n",
      "4.To Show your cart\n",
      "5.Total bill and Exit\n",
      "\n",
      "Enter your choice: 5\n",
      "\n",
      "--------------------INVOICE------------------\n",
      "1 . Ghee , Quantity purchased: 2 , Price: 2 * 500.0 = 1000\n",
      "2 . Amla oil , Quantity purchased: 1 , Price: 1 * 40.0 = 40\n",
      "----------------------------------------------\n",
      "Total bil : 1040\n",
      "----------------------------------------------\n",
      "Thank you for coming, Please visit again !\n",
      "Mon Sep  6 20:01:49 2021\n"
     ]
    }
   ],
   "source": [
    "print(\"--------------------------------------------\")\n",
    "print(\" Welcome to Mega Mart \")\n",
    "\n",
    "while (True): \n",
    "    print(\"--------------------MENU--------------------\") \n",
    "    print(\"1.Show Items List\\n2.Buy Items\\n3.To Remove an item\\n4.To Show your cart\\n5.Total bill and Exit\")\n",
    "    choice = int(input(\"\\nEnter your choice: \"))\n",
    "    \n",
    "    if choice == 1:\n",
    "        for i in records:\n",
    "            print(i, \":\", records[i][\"name\"],\"(Quantity Available:\",records[i][\"quantity\"],\")\")\n",
    "            \n",
    "    elif choice == 2:\n",
    "        b = int(input(\"Enter the Id of the product which you want to buy: \"))\n",
    "        showdetails(b)\n",
    "        \n",
    "    elif choice == 3:\n",
    "        d=int(input(\"Enter the Id of the product which you want to remove from your cart:\"))\n",
    "        removeItem(d)     \n",
    "        \n",
    "    elif choice ==4:\n",
    "        displayCart()\n",
    "        \n",
    "    elif choice == 5:\n",
    "        bill()\n",
    "        Time=time.ctime()\n",
    "        print(Time)\n",
    "        Sales(Time)\n",
    "        break\n",
    "    \n",
    "    else:\n",
    "        print(\"Please Enter the Valid choice\")"
   ]
  },
  {
   "cell_type": "code",
   "execution_count": 19,
   "id": "9db60fb1",
   "metadata": {},
   "outputs": [],
   "source": [
    "fd5=open(\"Sales.json\",\"r\")\n",
    "txt3=fd5.read()\n",
    "fd5.close()\n",
    "\n",
    "salesfile=json.loads(txt3)"
   ]
  },
  {
   "cell_type": "code",
   "execution_count": 20,
   "id": "7219b5f4",
   "metadata": {},
   "outputs": [
    {
     "data": {
      "text/plain": [
       "'{\"Mon Sep  6 20:00:24 2021\": {\"1\": {\"prod\": 1002, \"quantity\": 1, \"Price\": 48}, \"2\": {\"prod\": 1003, \"quantity\": 2, \"Price\": 250}, \"TotalBill\": 298}, \"Mon Sep  6 20:01:49 2021\": {\"1\": {\"prod\": 1010, \"quantity\": 2, \"Price\": 1000}, \"2\": {\"prod\": 1023, \"quantity\": 1, \"Price\": 40}, \"TotalBill\": 1040}}'"
      ]
     },
     "execution_count": 20,
     "metadata": {},
     "output_type": "execute_result"
    }
   ],
   "source": [
    "txt3"
   ]
  },
  {
   "cell_type": "code",
   "execution_count": 21,
   "id": "65db2d3c",
   "metadata": {},
   "outputs": [],
   "source": [
    "fd2=open(\"record.json\",\"r\")\n",
    "txt6=fd2.read()\n",
    "fd2.close()\n"
   ]
  },
  {
   "cell_type": "code",
   "execution_count": 22,
   "id": "3aec3c78",
   "metadata": {},
   "outputs": [
    {
     "data": {
      "text/plain": [
       "'{\"1001\": {\"name\": \"Kitkat\", \"price\": 40, \"quantity\": 100, \"category\": \"chocolate\"}, \"1002\": {\"name\": \"Magie\", \"price\": 48.0, \"quantity\": \"124\", \"category\": \"eatables\"}, \"1003\": {\"name\": \"Tea\", \"price\": 125.0, \"quantity\": \"48\", \"category\": \"drinks\"}, \"1004\": {\"name\": \"Almond\", \"price\": 100.0, \"quantity\": 100, \"category\": \"dryfruit\"}, \"1005\": {\"name\": \"Cashew\", \"price\": 100.0, \"quantity\": 125, \"category\": \"dryfruit\"}, \"1006\": {\"name\": \"Coffee\", \"price\": 200.0, \"quantity\": 25, \"category\": \"drinks\"}, \"1007\": {\"name\": \"Toast\", \"price\": 50.0, \"quantity\": 30, \"category\": \"eatables\"}, \"1008\": {\"name\": \"5star\", \"price\": 20.0, \"quantity\": 25, \"category\": \"chocolate\"}, \"1009\": {\"name\": \"Dairymilk\", \"price\": 30.0, \"quantity\": 25, \"category\": \"chocolate\"}, \"1010\": {\"name\": \"Ghee\", \"price\": 500.0, \"quantity\": \"23\", \"category\": \"eatables\"}, \"1011\": {\"name\": \"Refine oil\", \"price\": 189.0, \"quantity\": 25, \"category\": \"eatables\"}, \"1012\": {\"name\": \"Butter\", \"price\": 48.0, \"quantity\": 25, \"category\": \"eatables\"}, \"1013\": {\"name\": \"Bread\", \"price\": 35.0, \"quantity\": 20, \"category\": \"eatables\"}, \"1014\": {\"name\": \"Parleg\", \"price\": 10.0, \"quantity\": 25, \"category\": \"eatables\"}, \"1015\": {\"name\": \"Tomota Sauce\", \"price\": 140.0, \"quantity\": 25, \"category\": \"eatables\"}, \"1016\": {\"name\": \"Green chilli Sauce\", \"price\": 40.0, \"quantity\": 15, \"category\": \"eatables\"}, \"1017\": {\"name\": \"Cheese Slice\", \"price\": 15.0, \"quantity\": 100, \"category\": \"eatables\"}, \"1018\": {\"name\": \"Coconut\", \"price\": 50.0, \"quantity\": 25, \"category\": \"eatables\"}, \"1019\": {\"name\": \"Punjabi tadka\", \"price\": 50.0, \"quantity\": 25, \"category\": \"namkeen\"}, \"1020\": {\"name\": \"Aloo bhujia\", \"price\": 80.0, \"quantity\": 35, \"category\": \"namkeen\"}, \"1021\": {\"name\": \"Khata meetha\", \"price\": 80.0, \"quantity\": 15, \"category\": \"namkeen\"}, \"1022\": {\"name\": \"Almond oil\", \"price\": 50.0, \"quantity\": 25, \"category\": \"cosmetic\"}, \"1023\": {\"name\": \"Amla oil\", \"price\": 40.0, \"quantity\": \"24\", \"category\": \"cosmetic\"}, \"1024\": {\"name\": \"Perfume\", \"price\": 150.0, \"quantity\": 25, \"category\": \"cosmetic\"}, \"1025\": {\"name\": \"Shampoo\", \"price\": 50.0, \"quantity\": 25, \"category\": \"cosmetic\"}, \"1026\": {\"name\": \"Facewash\", \"price\": 79.0, \"quantity\": 25, \"category\": \"cosmetic\"}, \"1027\": {\"name\": \"Hair gel\", \"price\": 50.0, \"quantity\": 25, \"category\": \"cosmetic\"}, \"1028\": {\"name\": \"Ponds\", \"price\": 200.0, \"quantity\": 25, \"category\": \"cosmetic\"}, \"1029\": {\"name\": \"Comb\", \"price\": 30.0, \"quantity\": 25, \"category\": \"cosmetic\"}, \"1030\": {\"name\": \"Wax\", \"price\": 100.0, \"quantity\": 20, \"category\": \"cosmetic\"}}'"
      ]
     },
     "execution_count": 22,
     "metadata": {},
     "output_type": "execute_result"
    }
   ],
   "source": [
    "txt6"
   ]
  }
 ],
 "metadata": {
  "kernelspec": {
   "display_name": "Python 3",
   "language": "python",
   "name": "python3"
  },
  "language_info": {
   "codemirror_mode": {
    "name": "ipython",
    "version": 3
   },
   "file_extension": ".py",
   "mimetype": "text/x-python",
   "name": "python",
   "nbconvert_exporter": "python",
   "pygments_lexer": "ipython3",
   "version": "3.8.8"
  }
 },
 "nbformat": 4,
 "nbformat_minor": 5
}
